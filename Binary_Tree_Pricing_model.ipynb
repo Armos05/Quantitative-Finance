{
  "nbformat": 4,
  "nbformat_minor": 0,
  "metadata": {
    "colab": {
      "name": "Binary Tree Pricing model.ipynb",
      "provenance": []
    },
    "kernelspec": {
      "name": "python3",
      "display_name": "Python 3"
    },
    "language_info": {
      "name": "python"
    }
  },
  "cells": [
    {
      "cell_type": "markdown",
      "source": [
        "# Binary Tree Option pricing Model\n",
        "\n"
      ],
      "metadata": {
        "id": "5SLJ0mIdp69s"
      }
    },
    {
      "cell_type": "code",
      "execution_count": 5,
      "metadata": {
        "colab": {
          "base_uri": "https://localhost:8080/",
          "height": 246
        },
        "id": "XfsdqM_1fqy8",
        "outputId": "3dec318e-b24d-486c-cf6c-3dfb067f2ed3"
      },
      "outputs": [
        {
          "output_type": "error",
          "ename": "NameError",
          "evalue": "ignored",
          "traceback": [
            "\u001b[0;31m---------------------------------------------------------------------------\u001b[0m",
            "\u001b[0;31mNameError\u001b[0m                                 Traceback (most recent call last)",
            "\u001b[0;32m<ipython-input-5-9785a781d5b5>\u001b[0m in \u001b[0;36m<module>\u001b[0;34m()\u001b[0m\n\u001b[1;32m      3\u001b[0m \u001b[0;32mfrom\u001b[0m \u001b[0mscipy\u001b[0m\u001b[0;34m.\u001b[0m\u001b[0mstats\u001b[0m \u001b[0;32mimport\u001b[0m \u001b[0mnorm\u001b[0m\u001b[0;34m\u001b[0m\u001b[0;34m\u001b[0m\u001b[0m\n\u001b[1;32m      4\u001b[0m \u001b[0;34m\u001b[0m\u001b[0m\n\u001b[0;32m----> 5\u001b[0;31m \u001b[0;32mclass\u001b[0m \u001b[0mBinomialTreeModel\u001b[0m\u001b[0;34m(\u001b[0m\u001b[0mOptionPricingModel\u001b[0m\u001b[0;34m)\u001b[0m\u001b[0;34m:\u001b[0m\u001b[0;34m\u001b[0m\u001b[0;34m\u001b[0m\u001b[0m\n\u001b[0m\u001b[1;32m      6\u001b[0m     \"\"\" \n\u001b[1;32m      7\u001b[0m     \u001b[0mClass\u001b[0m \u001b[0mimplementing\u001b[0m \u001b[0mcalculation\u001b[0m \u001b[0;32mfor\u001b[0m \u001b[0mEuropean\u001b[0m \u001b[0moption\u001b[0m \u001b[0mprice\u001b[0m \u001b[0musing\u001b[0m \u001b[0mBOPM\u001b[0m \u001b[0;34m(\u001b[0m\u001b[0mBinomial\u001b[0m \u001b[0mOption\u001b[0m \u001b[0mPricing\u001b[0m \u001b[0mModel\u001b[0m\u001b[0;34m)\u001b[0m\u001b[0;34m.\u001b[0m\u001b[0;34m\u001b[0m\u001b[0;34m\u001b[0m\u001b[0m\n",
            "\u001b[0;31mNameError\u001b[0m: name 'OptionPricingModel' is not defined"
          ]
        }
      ],
      "source": [
        "# Third party imports\n",
        "import numpy as np\n",
        "from scipy.stats import norm\n",
        "\n",
        "class BinomialTreeModel(OptionPricingModel):\n",
        "    \"\"\" \n",
        "    Class implementing calculation for European option price using BOPM (Binomial Option Pricing Model).\n",
        "    It caclulates option prices in discrete time (lattice based), in specified number of time points between date of valuation and exercise date.\n",
        "    This pricing model has three steps:\n",
        "    - Price tree generation\n",
        "    - Calculation of option value at each final node \n",
        "    - Sequential calculation of the option value at each preceding node\n",
        "    \"\"\"\n",
        "\n",
        "    def __init__(self, underlying_spot_price, strike_price, days_to_maturity, risk_free_rate, sigma, number_of_time_steps):\n",
        "        \"\"\"\n",
        "        Initializes variables used in Black-Scholes formula .\n",
        "        underlying_spot_price: current stock or other underlying spot price\n",
        "        strike_price: strike price for option cotract\n",
        "        days_to_maturity: option contract maturity/exercise date\n",
        "        risk_free_rate: returns on risk-free assets (assumed to be constant until expiry date)\n",
        "        sigma: volatility of the underlying asset (standard deviation of asset's log returns)\n",
        "        number_of_time_steps: number of time periods between the valuation date and exercise date\n",
        "        \"\"\"\n",
        "        self.S = underlying_spot_price\n",
        "        self.K = strike_price\n",
        "        self.T = days_to_maturity / 365\n",
        "        self.r = risk_free_rate\n",
        "        self.sigma = sigma\n",
        "        self.number_of_time_steps = number_of_time_steps\n",
        "\n",
        "    def _calculate_call_option_price(self): \n",
        "        \"\"\"Calculates price for call option according to the Binomial formula.\"\"\"\n",
        "        # Delta t, up and down factors\n",
        "        dT = self.T / self.number_of_time_steps                             \n",
        "        u = np.exp(self.sigma * np.sqrt(dT))                 \n",
        "        d = 1.0 / u                                    \n",
        "\n",
        "        # Price vector initialization\n",
        "        V = np.zeros(self.number_of_time_steps + 1)                       \n",
        "\n",
        "        # Underlying asset prices at different time points\n",
        "        S_T = np.array( [(self.S * u**j * d**(self.number_of_time_steps - j)) for j in range(self.number_of_time_steps + 1)])\n",
        "\n",
        "        a = np.exp(self.r * dT)      # risk free compounded return\n",
        "        p = (a - d) / (u - d)        # risk neutral up probability\n",
        "        q = 1.0 - p                  # risk neutral down probability   \n",
        "\n",
        "        V[:] = np.maximum(S_T - self.K, 0.0)\n",
        "    \n",
        "        # Overriding option price \n",
        "        for i in range(self.number_of_time_steps - 1, -1, -1):\n",
        "            V[:-1] = np.exp(-self.r * dT) * (p * V[1:] + q * V[:-1]) \n",
        "\n",
        "        return V[0]\n",
        "\n",
        "    def _calculate_put_option_price(self): \n",
        "        \"\"\"Calculates price for put option according to the Binomial formula.\"\"\"  \n",
        "        # Delta t, up and down factors\n",
        "        dT = self.T / self.number_of_time_steps                             \n",
        "        u = np.exp(self.sigma * np.sqrt(dT))                 \n",
        "        d = 1.0 / u                                    \n",
        "\n",
        "        # Price vector initialization\n",
        "        V = np.zeros(self.number_of_time_steps + 1)                       \n",
        "\n",
        "        # Underlying asset prices at different time points\n",
        "        S_T = np.array( [(self.S * u**j * d**(self.number_of_time_steps - j)) for j in range(self.number_of_time_steps + 1)])\n",
        "\n",
        "        a = np.exp(self.r * dT)      # risk free compounded return\n",
        "        p = (a - d) / (u - d)        # risk neutral up probability\n",
        "        q = 1.0 - p                  # risk neutral down probability   \n",
        "\n",
        "        V[:] = np.maximum(self.K - S_T, 0.0)\n",
        "    \n",
        "        # Overriding option price \n",
        "        for i in range(self.number_of_time_steps - 1, -1, -1):\n",
        "            V[:-1] = np.exp(-self.r * dT) * (p * V[1:] + q * V[:-1]) \n",
        "\n",
        "        return V[0]"
      ]
    },
    {
      "cell_type": "code",
      "source": [
        ""
      ],
      "metadata": {
        "id": "eKR9UdqGjpc_"
      },
      "execution_count": null,
      "outputs": []
    }
  ]
}